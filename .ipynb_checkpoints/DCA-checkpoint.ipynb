{
 "cells": [
  {
   "cell_type": "code",
   "execution_count": 2,
   "metadata": {},
   "outputs": [],
   "source": [
    "import numpy\n",
    "import matplotlib.pyplot as plt\n",
    "from scipy.optimize import minimize\n",
    "from typing import List, Optional, Tuple"
   ]
  },
  {
   "cell_type": "code",
   "execution_count": 3,
   "metadata": {},
   "outputs": [],
   "source": [
    "production = numpy.array([21465,30536,23480,18712,12667,5011,3773,10662,10182,8409,7379,6243,5964,5307,4945,4483,4813,4111,3954,3590,3590,3181,3175,3041,2708,2355,1870,1584,1820,1628,2035,1812,1796,1573,1608,1563,1530,1513,1420,1609,1205,1224,1457,1300,1313,1174,1202,1202,1096,1178,1018])"
   ]
  },
  {
   "cell_type": "markdown",
   "metadata": {},
   "source": [
    "# Core functions"
   ]
  },
  {
   "cell_type": "code",
   "execution_count": 4,
   "metadata": {},
   "outputs": [],
   "source": [
    "def arps(qi, Di, b, t):\n",
    "    \"\"\"ARPS equation\n",
    "        qi: Initial production (>0)\n",
    "        Di: Initial decline rate (% >0)\n",
    "        b: Constant (between 0 and 2)\n",
    "        t: Month number (1 to n)\n",
    "    \"\"\"\n",
    "    if b == 0:\n",
    "        return qi * numpy.exp(-Di * t)\n",
    "    elif b == 1.0:\n",
    "        return qi / (1.0 + Di * t)\n",
    "    else:\n",
    "        return (qi / (1.0 + b * Di * t) ** (1.0 / b))\n",
    "\n",
    "def error(params, production):\n",
    "    prediction = numpy.array([int(arps(*params, x)) for x in range(1, len(production)+1)])\n",
    "#     return numpy.sum((forecast - production) ** 2)\n",
    "    return numpy.square(numpy.subtract(production, prediction)).mean() "
   ]
  },
  {
   "cell_type": "markdown",
   "metadata": {},
   "source": [
    "# TARGET VALUES"
   ]
  },
  {
   "cell_type": "code",
   "execution_count": 10,
   "metadata": {},
   "outputs": [
    {
     "data": {
      "text/plain": [
       "5975026.960784313"
      ]
     },
     "execution_count": 10,
     "metadata": {},
     "output_type": "execute_result"
    }
   ],
   "source": [
    "qi = 25090.2861212654\n",
    "Di = 0.162129072364027\n",
    "b = 0.485530087902886\n",
    "e = error((qi, Di, b), production) # Actual expected error\n",
    "e"
   ]
  },
  {
   "cell_type": "markdown",
   "metadata": {},
   "source": [
    "# Predictions"
   ]
  },
  {
   "cell_type": "code",
   "execution_count": 11,
   "metadata": {},
   "outputs": [
    {
     "data": {
      "text/plain": [
       "array([21464, 18566, 16213, 14277, 12666, 11310, 10160,  9175,  8325,\n",
       "        7588,  6943,  6377,  5876,  5432,  5036,  4681,  4362,  4075,\n",
       "        3814,  3578,  3363,  3166,  2986,  2821,  2669,  2529,  2399,\n",
       "        2280,  2168,  2065,  1969,  1879,  1796,  1717,  1644,  1575,\n",
       "        1510,  1450,  1393,  1339,  1288,  1240,  1194,  1151,  1111,\n",
       "        1072,  1035,  1001,   967,   936,   906])"
      ]
     },
     "execution_count": 11,
     "metadata": {},
     "output_type": "execute_result"
    }
   ],
   "source": [
    "f = numpy.array([int(arps(qi, Di, b, x)) for x in range(1, len(production)+1)])\n",
    "f"
   ]
  },
  {
   "cell_type": "code",
   "execution_count": 12,
   "metadata": {},
   "outputs": [
    {
     "data": {
      "text/plain": [
       "[<matplotlib.lines.Line2D at 0x1b1b11886c8>]"
      ]
     },
     "execution_count": 12,
     "metadata": {},
     "output_type": "execute_result"
    },
    {
     "data": {
      "image/png": "[encoded data removed]",
      "text/plain": [
       "<Figure size 432x288 with 1 Axes>"
      ]
     },
     "metadata": {
      "needs_background": "light"
     },
     "output_type": "display_data"
    }
   ],
   "source": [
    "plt.plot(production)\n",
    "plt.plot(f)"
   ]
  },
  {
   "cell_type": "markdown",
   "metadata": {},
   "source": [
    "# NEED HELP HERE"
   ]
  },
  {
   "cell_type": "code",
   "execution_count": 14,
   "metadata": {},
   "outputs": [],
   "source": [
    "_DI: float = 1.0 # nominal annual decline\n",
    "_B = 1.5\n",
    "INITIAL_GUESS = numpy.array([numpy.max(production), _DI, _B])\n",
    "_FIT_BOUNDS: List[Tuple[Optional[float], Optional[float]]] = [\n",
    "    (0.0, None), # initial rate\n",
    "    (0.0, None), # nominal annual decline\n",
    "    (0.0, 2.0),  # b\n",
    "]"
   ]
  },
  {
   "cell_type": "code",
   "execution_count": 15,
   "metadata": {},
   "outputs": [
    {
     "data": {
      "text/plain": [
       "      fun: 15508504.0\n",
       " hess_inv: <3x3 LbfgsInvHessProduct with dtype=float64>\n",
       "      jac: array([0., 0., 0.])\n",
       "  message: b'CONVERGENCE: NORM_OF_PROJECTED_GRADIENT_<=_PGTOL'\n",
       "     nfev: 4\n",
       "      nit: 0\n",
       "     njev: 1\n",
       "   status: 0\n",
       "  success: True\n",
       "        x: array([3.0536e+04, 1.0000e+00, 1.5000e+00])"
      ]
     },
     "execution_count": 15,
     "metadata": {},
     "output_type": "execute_result"
    }
   ],
   "source": [
    "fit = minimize(fun=error, x0=INITIAL_GUESS, args=production, method='L-BFGS-B', bounds=_FIT_BOUNDS)\n",
    "fit"
   ]
  },
  {
   "cell_type": "markdown",
   "metadata": {},
   "source": [
    "# I expect x to be [25090, 0.162, 0.486] or whereabouts"
   ]
  },
  {
   "cell_type": "code",
   "execution_count": null,
   "metadata": {},
   "outputs": [],
   "source": []
  }
 ],
 "metadata": {
  "kernelspec": {
   "display_name": "Python 3",
   "language": "python",
   "name": "python3"
  },
  "language_info": {
   "codemirror_mode": {
    "name": "ipython",
    "version": 3
   },
   "file_extension": ".py",
   "mimetype": "text/x-python",
   "name": "python",
   "nbconvert_exporter": "python",
   "pygments_lexer": "ipython3",
   "version": "3.7.4"
  }
 },
 "nbformat": 4,
 "nbformat_minor": 2
}
